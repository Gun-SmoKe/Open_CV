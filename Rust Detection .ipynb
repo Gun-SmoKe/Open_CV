{
 "cells": [
  {
   "cell_type": "code",
   "execution_count": null,
   "metadata": {},
   "outputs": [],
   "source": [
    "import cv2 \n",
    "import numpy as np\n",
    "\n",
    "img = cv2.imread('Rusty-BMW.jpg', 1)\n",
    "\n",
    "hsv = cv2.cvtColor(img, cv2.COLOR_BGR2HSV)\n",
    "\n",
    "boundaries1 = [ ([169, 100 , 100], [189, 255, 255]) ]\n",
    "boundaries2 = [ ([3, 100, 100], [17, 255, 255]) ]\n",
    "boundaries3 = [ ([2, 100, 100], [22, 255, 255]) ]\n",
    "boundaries4 = [ ([6, 100, 100], [26, 255, 255]) ]\n",
    "\n",
    "for (lower1, upper1) in boundaries1:\n",
    "    lower1 = np.array(lower1, dtype = \"uint8\")\n",
    "    upper1 = np.array(upper1, dtype = \"uint8\")\n",
    "    mask = cv2.inRange(hsv, lower1, upper1)\n",
    "    output1 = cv2.bitwise_and(img, img, mask = mask)\n",
    "\n",
    "for (lower2, upper2) in boundaries2:\n",
    "    lower2 = np.array(lower2, dtype = \"uint8\")\n",
    "    upper2 = np.array(upper2, dtype = \"uint8\")\n",
    "    mask = cv2.inRange(hsv, lower2, upper2)\n",
    "    output2 = cv2.bitwise_and(img, img, mask = mask)\n",
    "for (lower3, upper3) in boundaries3:\n",
    "    lower3 = np.array(lower3, dtype = \"uint8\")\n",
    "    upper3 = np.array(upper3, dtype = \"uint8\")\n",
    "    mask = cv2.inRange(hsv, lower3, upper3)\n",
    "    output3 = cv2.bitwise_and(img, img, mask = mask)\n",
    "for (lower4, upper4) in boundaries4:\n",
    "    lower4 = np.array(lower4, dtype = \"uint8\")\n",
    "    upper4 = np.array(upper4, dtype = \"uint8\")\n",
    "    mask = cv2.inRange(hsv, lower4, upper4)\n",
    "    output4 = cv2.bitwise_and(img, img, mask = mask)\n",
    "\n",
    "final = cv2.bitwise_or(output1, output2, output3)\n",
    "final1 = cv2.bitwise_or(output4, final)\n",
    "cv2.imshow(\"final\", final1)\n",
    "\n",
    "while(1):\n",
    "    k = cv2.waitKey(0)\n",
    "    if(k == 27):\n",
    "        break\n",
    "\n",
    "cv2.destroyAllWindows()"
   ]
  },
  {
   "cell_type": "code",
   "execution_count": null,
   "metadata": {},
   "outputs": [],
   "source": []
  }
 ],
 "metadata": {
  "kernelspec": {
   "display_name": "Python 3",
   "language": "python",
   "name": "python3"
  },
  "language_info": {
   "codemirror_mode": {
    "name": "ipython",
    "version": 3
   },
   "file_extension": ".py",
   "mimetype": "text/x-python",
   "name": "python",
   "nbconvert_exporter": "python",
   "pygments_lexer": "ipython3",
   "version": "3.6.5"
  }
 },
 "nbformat": 4,
 "nbformat_minor": 2
}
